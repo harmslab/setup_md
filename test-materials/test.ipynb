{
 "cells": [
  {
   "cell_type": "markdown",
   "id": "2939f6e4-6d31-45ec-9482-49f29cc74e9b",
   "metadata": {},
   "source": [
    "## Test software\n",
    "\n",
    "If you have MDAnalysis and the other required software installed correctly, this notebook should run without error. Markdown cells throughout indicate the expected output. \n"
   ]
  },
  {
   "cell_type": "code",
   "execution_count": 1,
   "id": "60a7943a-16a6-4273-9201-4fb0fe8e0664",
   "metadata": {},
   "outputs": [
    {
     "name": "stderr",
     "output_type": "stream",
     "text": [
      "/Users/harmsm/miniconda3/lib/python3.12/site-packages/tqdm/auto.py:21: TqdmWarning: IProgress not found. Please update jupyter and ipywidgets. See https://ipywidgets.readthedocs.io/en/stable/user_install.html\n",
      "  from .autonotebook import tqdm as notebook_tqdm\n"
     ]
    }
   ],
   "source": [
    "# Import modules\n",
    "\n",
    "%matplotlib inline\n",
    "from matplotlib import pyplot as plt\n",
    "\n",
    "import numpy as np\n",
    "import pandas as pd\n",
    "from tqdm.auto import tqdm\n",
    "\n",
    "import MDAnalysis as mda\n",
    "from MDAnalysis.analysis import rms\n"
   ]
  },
  {
   "cell_type": "markdown",
   "id": "9836a221-cc98-48e5-a8b2-56d3a5c65b51",
   "metadata": {},
   "source": [
    "### Load universe\n",
    "\n",
    "When run, this should write out `<Universe with 12480 atoms>`."
   ]
  },
  {
   "cell_type": "code",
   "execution_count": 2,
   "id": "165d6caa-b0c1-429b-9117-9491dcb90a2b",
   "metadata": {},
   "outputs": [
    {
     "data": {
      "text/plain": [
       "<Universe with 12480 atoms>"
      ]
     },
     "execution_count": 2,
     "metadata": {},
     "output_type": "execute_result"
    }
   ],
   "source": [
    "univ = mda.Universe(\"output/traj.gro\",\n",
    "                    \"output/traj-split0.xtc\")\n",
    "univ"
   ]
  },
  {
   "cell_type": "markdown",
   "id": "3f873979-f155-4dc4-93a5-bb999c2f8ef9",
   "metadata": {},
   "source": [
    "### Selecting protein atoms\n",
    "\n",
    "When run, this should print out `<AtomGroup with 410 atoms>`."
   ]
  },
  {
   "cell_type": "code",
   "execution_count": 3,
   "id": "23e33cf9-e099-4bda-b127-da315638cf08",
   "metadata": {},
   "outputs": [
    {
     "data": {
      "text/plain": [
       "<AtomGroup with 410 atoms>"
      ]
     },
     "execution_count": 3,
     "metadata": {},
     "output_type": "execute_result"
    }
   ],
   "source": [
    "sele = univ.select_atoms('protein')\n",
    "sele"
   ]
  },
  {
   "cell_type": "markdown",
   "id": "1c424dc3-63ae-4398-941b-d3337c02308f",
   "metadata": {},
   "source": [
    "### Calculate RMSD\n",
    "\n",
    "When run, this should generate a data table with MD frame on each row and the RMSD of backbone, alpha carbons, and protein as columns. "
   ]
  },
  {
   "cell_type": "code",
   "execution_count": 4,
   "id": "69bf166e-e61a-4f6a-8155-04a8448bfb93",
   "metadata": {},
   "outputs": [
    {
     "data": {
      "text/html": [
       "<div>\n",
       "<style scoped>\n",
       "    .dataframe tbody tr th:only-of-type {\n",
       "        vertical-align: middle;\n",
       "    }\n",
       "\n",
       "    .dataframe tbody tr th {\n",
       "        vertical-align: top;\n",
       "    }\n",
       "\n",
       "    .dataframe thead th {\n",
       "        text-align: right;\n",
       "    }\n",
       "</style>\n",
       "<table border=\"1\" class=\"dataframe\">\n",
       "  <thead>\n",
       "    <tr style=\"text-align: right;\">\n",
       "      <th></th>\n",
       "      <th>frame</th>\n",
       "      <th>time</th>\n",
       "      <th>backbone</th>\n",
       "      <th>name CA</th>\n",
       "      <th>protein</th>\n",
       "    </tr>\n",
       "  </thead>\n",
       "  <tbody>\n",
       "    <tr>\n",
       "      <th>0</th>\n",
       "      <td>0.0</td>\n",
       "      <td>0.0</td>\n",
       "      <td>3.080646e-07</td>\n",
       "      <td>0.000000</td>\n",
       "      <td>0.000000</td>\n",
       "    </tr>\n",
       "    <tr>\n",
       "      <th>1</th>\n",
       "      <td>1.0</td>\n",
       "      <td>10.0</td>\n",
       "      <td>7.492877e-01</td>\n",
       "      <td>0.790985</td>\n",
       "      <td>1.524065</td>\n",
       "    </tr>\n",
       "    <tr>\n",
       "      <th>2</th>\n",
       "      <td>2.0</td>\n",
       "      <td>20.0</td>\n",
       "      <td>9.684722e-01</td>\n",
       "      <td>1.060444</td>\n",
       "      <td>2.266575</td>\n",
       "    </tr>\n",
       "    <tr>\n",
       "      <th>3</th>\n",
       "      <td>3.0</td>\n",
       "      <td>30.0</td>\n",
       "      <td>1.307494e+00</td>\n",
       "      <td>1.400009</td>\n",
       "      <td>2.618012</td>\n",
       "    </tr>\n",
       "    <tr>\n",
       "      <th>4</th>\n",
       "      <td>4.0</td>\n",
       "      <td>40.0</td>\n",
       "      <td>1.298679e+00</td>\n",
       "      <td>1.344808</td>\n",
       "      <td>2.588357</td>\n",
       "    </tr>\n",
       "    <tr>\n",
       "      <th>...</th>\n",
       "      <td>...</td>\n",
       "      <td>...</td>\n",
       "      <td>...</td>\n",
       "      <td>...</td>\n",
       "      <td>...</td>\n",
       "    </tr>\n",
       "    <tr>\n",
       "      <th>96</th>\n",
       "      <td>96.0</td>\n",
       "      <td>960.0</td>\n",
       "      <td>1.249546e+00</td>\n",
       "      <td>1.293425</td>\n",
       "      <td>2.837732</td>\n",
       "    </tr>\n",
       "    <tr>\n",
       "      <th>97</th>\n",
       "      <td>97.0</td>\n",
       "      <td>970.0</td>\n",
       "      <td>9.768418e-01</td>\n",
       "      <td>1.007479</td>\n",
       "      <td>2.647937</td>\n",
       "    </tr>\n",
       "    <tr>\n",
       "      <th>98</th>\n",
       "      <td>98.0</td>\n",
       "      <td>980.0</td>\n",
       "      <td>1.135953e+00</td>\n",
       "      <td>1.203608</td>\n",
       "      <td>2.701824</td>\n",
       "    </tr>\n",
       "    <tr>\n",
       "      <th>99</th>\n",
       "      <td>99.0</td>\n",
       "      <td>990.0</td>\n",
       "      <td>1.100030e+00</td>\n",
       "      <td>1.183717</td>\n",
       "      <td>2.716367</td>\n",
       "    </tr>\n",
       "    <tr>\n",
       "      <th>100</th>\n",
       "      <td>100.0</td>\n",
       "      <td>1000.0</td>\n",
       "      <td>1.092072e+00</td>\n",
       "      <td>1.180695</td>\n",
       "      <td>2.718688</td>\n",
       "    </tr>\n",
       "  </tbody>\n",
       "</table>\n",
       "<p>101 rows × 5 columns</p>\n",
       "</div>"
      ],
      "text/plain": [
       "     frame    time      backbone   name CA   protein\n",
       "0      0.0     0.0  3.080646e-07  0.000000  0.000000\n",
       "1      1.0    10.0  7.492877e-01  0.790985  1.524065\n",
       "2      2.0    20.0  9.684722e-01  1.060444  2.266575\n",
       "3      3.0    30.0  1.307494e+00  1.400009  2.618012\n",
       "4      4.0    40.0  1.298679e+00  1.344808  2.588357\n",
       "..     ...     ...           ...       ...       ...\n",
       "96    96.0   960.0  1.249546e+00  1.293425  2.837732\n",
       "97    97.0   970.0  9.768418e-01  1.007479  2.647937\n",
       "98    98.0   980.0  1.135953e+00  1.203608  2.701824\n",
       "99    99.0   990.0  1.100030e+00  1.183717  2.716367\n",
       "100  100.0  1000.0  1.092072e+00  1.180695  2.718688\n",
       "\n",
       "[101 rows x 5 columns]"
      ]
     },
     "execution_count": 4,
     "metadata": {},
     "output_type": "execute_result"
    }
   ],
   "source": [
    "rmsd_analysis = rms.RMSD(univ,\n",
    "                         select='backbone',\n",
    "                         groupselections=['name CA', 'protein'])\n",
    "rmsd_analysis.run()\n",
    "df = pd.DataFrame(rmsd_analysis.results[\"rmsd\"])\n",
    "df.columns = [\"frame\",\"time\",\"backbone\",\"name CA\",\"protein\"]\n",
    "df"
   ]
  },
  {
   "cell_type": "markdown",
   "id": "c0b67f3e-8c35-437a-b72c-6cb421c9a89d",
   "metadata": {},
   "source": [
    "### Plot results\n",
    "\n",
    "When run, this should generate a plot of backbone RMSD versus time. "
   ]
  },
  {
   "cell_type": "code",
   "execution_count": 5,
   "id": "ec75d28c-b74b-40b3-8056-fa39023c23d2",
   "metadata": {},
   "outputs": [
    {
     "data": {
      "text/plain": [
       "Text(0, 0.5, 'backbone RMSD (A)')"
      ]
     },
     "execution_count": 5,
     "metadata": {},
     "output_type": "execute_result"
    },
    {
     "data": {
      "image/png": "[encoded data removed]",
      "text/plain": [
       "<Figure size 600x600 with 1 Axes>"
      ]
     },
     "metadata": {},
     "output_type": "display_data"
    }
   ],
   "source": [
    "fig, ax = plt.subplots(1,figsize=(6,6))\n",
    "ax.plot(df[\"time\"],\n",
    "        df[\"protein\"])\n",
    "ax.set_xlabel(\"time (ps)\")\n",
    "ax.set_ylabel(\"backbone RMSD (A)\")\n"
   ]
  },
  {
   "cell_type": "code",
   "execution_count": null,
   "id": "8502133d-8d07-4076-96f2-ed74a65deaf8",
   "metadata": {},
   "outputs": [],
   "source": []
  }
 ],
 "metadata": {
  "kernelspec": {
   "display_name": "Python 3 (ipykernel)",
   "language": "python",
   "name": "python3"
  },
  "language_info": {
   "codemirror_mode": {
    "name": "ipython",
    "version": 3
   },
   "file_extension": ".py",
   "mimetype": "text/x-python",
   "name": "python",
   "nbconvert_exporter": "python",
   "pygments_lexer": "ipython3",
   "version": "3.12.2"
  }
 },
 "nbformat": 4,
 "nbformat_minor": 5
}
